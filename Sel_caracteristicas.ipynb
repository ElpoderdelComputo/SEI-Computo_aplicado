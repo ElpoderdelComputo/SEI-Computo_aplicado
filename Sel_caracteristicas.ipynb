{
  "nbformat": 4,
  "nbformat_minor": 0,
  "metadata": {
    "colab": {
      "name": "Sel_caracteristicas.ipynb",
      "provenance": [],
      "collapsed_sections": [],
      "mount_file_id": "1PmDzfReeIwgzmT0d0DU4bfA-GbJe74A3",
      "authorship_tag": "ABX9TyNCCrUC44qC6sjPtcxopJ3V",
      "include_colab_link": true
    },
    "kernelspec": {
      "name": "python3",
      "display_name": "Python 3"
    },
    "language_info": {
      "name": "python"
    }
  },
  "cells": [
    {
      "cell_type": "markdown",
      "metadata": {
        "id": "view-in-github",
        "colab_type": "text"
      },
      "source": [
        "<a href=\"https://colab.research.google.com/github/ElpoderdelComputo/SEI-Computo_aplicado/blob/main/Sel_caracteristicas.ipynb\" target=\"_parent\"><img src=\"https://colab.research.google.com/assets/colab-badge.svg\" alt=\"Open In Colab\"/></a>"
      ]
    },
    {
      "cell_type": "markdown",
      "source": [
        "# **COLEGIO DE POSTGRADUADOS**\n",
        "\n",
        "INSTITUCIÓN DE ENSEÑANZA E INVESTIGACIÓN EN CIENCIAS AGRÍCOLAS\n",
        "\n",
        "CAMPUS MONTECILLO\n",
        "\n",
        "POSGRADO EN SOCIOECONOMÍA, ESTADÍSTICA E INFORMÁTICA\n",
        "\n",
        "**CÓMPUTO APLICADO**\n",
        "\n",
        "\n",
        "\n",
        "```\n",
        "# Selección e Importancia de las características\n",
        "```\n",
        "\n",
        "Autor: José Rodríguez Rosales\n"
      ],
      "metadata": {
        "id": "eW4fMhs7i709"
      }
    },
    {
      "cell_type": "code",
      "execution_count": 4,
      "metadata": {
        "colab": {
          "base_uri": "https://localhost:8080/",
          "height": 224
        },
        "id": "bzmBOvDei4Gh",
        "outputId": "5120baf9-84fb-45ca-fd5b-5803d09c0885"
      },
      "outputs": [
        {
          "output_type": "stream",
          "name": "stdout",
          "text": [
            "Class labels [1 2 3 4]\n"
          ]
        },
        {
          "output_type": "execute_result",
          "data": {
            "text/plain": [
              "    X   Y   R   G   B  ExG   ExR  ExGR      CIVE       VEG     NGRDI  \\\n",
              "0  26  89  62  76  76   14  10.8   3.2  28.95345  1.145453  0.101449   \n",
              "1  24  88  66  80  81   13  12.4   0.6  30.39845  1.132214  0.095890   \n",
              "2  26  87  67  81  81   14  12.8   1.2  30.02845  1.134926  0.094595   \n",
              "3  27  87  67  82  79   18  11.8   6.2  28.04745  1.158543  0.100671   \n",
              "4  80  61  70  71  73   -1  27.0 -28.0  34.78145  1.000211  0.007092   \n",
              "\n",
              "          NDI  Clase  \n",
              "0  140.985507      4  \n",
              "1  140.273973      4  \n",
              "2  140.108108      4  \n",
              "3  140.885906      4  \n",
              "4  128.907801      4  "
            ],
            "text/html": [
              "\n",
              "  <div id=\"df-aa5b4392-6fbf-4c0d-a18f-0cc1af480a53\">\n",
              "    <div class=\"colab-df-container\">\n",
              "      <div>\n",
              "<style scoped>\n",
              "    .dataframe tbody tr th:only-of-type {\n",
              "        vertical-align: middle;\n",
              "    }\n",
              "\n",
              "    .dataframe tbody tr th {\n",
              "        vertical-align: top;\n",
              "    }\n",
              "\n",
              "    .dataframe thead th {\n",
              "        text-align: right;\n",
              "    }\n",
              "</style>\n",
              "<table border=\"1\" class=\"dataframe\">\n",
              "  <thead>\n",
              "    <tr style=\"text-align: right;\">\n",
              "      <th></th>\n",
              "      <th>X</th>\n",
              "      <th>Y</th>\n",
              "      <th>R</th>\n",
              "      <th>G</th>\n",
              "      <th>B</th>\n",
              "      <th>ExG</th>\n",
              "      <th>ExR</th>\n",
              "      <th>ExGR</th>\n",
              "      <th>CIVE</th>\n",
              "      <th>VEG</th>\n",
              "      <th>NGRDI</th>\n",
              "      <th>NDI</th>\n",
              "      <th>Clase</th>\n",
              "    </tr>\n",
              "  </thead>\n",
              "  <tbody>\n",
              "    <tr>\n",
              "      <th>0</th>\n",
              "      <td>26</td>\n",
              "      <td>89</td>\n",
              "      <td>62</td>\n",
              "      <td>76</td>\n",
              "      <td>76</td>\n",
              "      <td>14</td>\n",
              "      <td>10.8</td>\n",
              "      <td>3.2</td>\n",
              "      <td>28.95345</td>\n",
              "      <td>1.145453</td>\n",
              "      <td>0.101449</td>\n",
              "      <td>140.985507</td>\n",
              "      <td>4</td>\n",
              "    </tr>\n",
              "    <tr>\n",
              "      <th>1</th>\n",
              "      <td>24</td>\n",
              "      <td>88</td>\n",
              "      <td>66</td>\n",
              "      <td>80</td>\n",
              "      <td>81</td>\n",
              "      <td>13</td>\n",
              "      <td>12.4</td>\n",
              "      <td>0.6</td>\n",
              "      <td>30.39845</td>\n",
              "      <td>1.132214</td>\n",
              "      <td>0.095890</td>\n",
              "      <td>140.273973</td>\n",
              "      <td>4</td>\n",
              "    </tr>\n",
              "    <tr>\n",
              "      <th>2</th>\n",
              "      <td>26</td>\n",
              "      <td>87</td>\n",
              "      <td>67</td>\n",
              "      <td>81</td>\n",
              "      <td>81</td>\n",
              "      <td>14</td>\n",
              "      <td>12.8</td>\n",
              "      <td>1.2</td>\n",
              "      <td>30.02845</td>\n",
              "      <td>1.134926</td>\n",
              "      <td>0.094595</td>\n",
              "      <td>140.108108</td>\n",
              "      <td>4</td>\n",
              "    </tr>\n",
              "    <tr>\n",
              "      <th>3</th>\n",
              "      <td>27</td>\n",
              "      <td>87</td>\n",
              "      <td>67</td>\n",
              "      <td>82</td>\n",
              "      <td>79</td>\n",
              "      <td>18</td>\n",
              "      <td>11.8</td>\n",
              "      <td>6.2</td>\n",
              "      <td>28.04745</td>\n",
              "      <td>1.158543</td>\n",
              "      <td>0.100671</td>\n",
              "      <td>140.885906</td>\n",
              "      <td>4</td>\n",
              "    </tr>\n",
              "    <tr>\n",
              "      <th>4</th>\n",
              "      <td>80</td>\n",
              "      <td>61</td>\n",
              "      <td>70</td>\n",
              "      <td>71</td>\n",
              "      <td>73</td>\n",
              "      <td>-1</td>\n",
              "      <td>27.0</td>\n",
              "      <td>-28.0</td>\n",
              "      <td>34.78145</td>\n",
              "      <td>1.000211</td>\n",
              "      <td>0.007092</td>\n",
              "      <td>128.907801</td>\n",
              "      <td>4</td>\n",
              "    </tr>\n",
              "  </tbody>\n",
              "</table>\n",
              "</div>\n",
              "      <button class=\"colab-df-convert\" onclick=\"convertToInteractive('df-aa5b4392-6fbf-4c0d-a18f-0cc1af480a53')\"\n",
              "              title=\"Convert this dataframe to an interactive table.\"\n",
              "              style=\"display:none;\">\n",
              "        \n",
              "  <svg xmlns=\"http://www.w3.org/2000/svg\" height=\"24px\"viewBox=\"0 0 24 24\"\n",
              "       width=\"24px\">\n",
              "    <path d=\"M0 0h24v24H0V0z\" fill=\"none\"/>\n",
              "    <path d=\"M18.56 5.44l.94 2.06.94-2.06 2.06-.94-2.06-.94-.94-2.06-.94 2.06-2.06.94zm-11 1L8.5 8.5l.94-2.06 2.06-.94-2.06-.94L8.5 2.5l-.94 2.06-2.06.94zm10 10l.94 2.06.94-2.06 2.06-.94-2.06-.94-.94-2.06-.94 2.06-2.06.94z\"/><path d=\"M17.41 7.96l-1.37-1.37c-.4-.4-.92-.59-1.43-.59-.52 0-1.04.2-1.43.59L10.3 9.45l-7.72 7.72c-.78.78-.78 2.05 0 2.83L4 21.41c.39.39.9.59 1.41.59.51 0 1.02-.2 1.41-.59l7.78-7.78 2.81-2.81c.8-.78.8-2.07 0-2.86zM5.41 20L4 18.59l7.72-7.72 1.47 1.35L5.41 20z\"/>\n",
              "  </svg>\n",
              "      </button>\n",
              "      \n",
              "  <style>\n",
              "    .colab-df-container {\n",
              "      display:flex;\n",
              "      flex-wrap:wrap;\n",
              "      gap: 12px;\n",
              "    }\n",
              "\n",
              "    .colab-df-convert {\n",
              "      background-color: #E8F0FE;\n",
              "      border: none;\n",
              "      border-radius: 50%;\n",
              "      cursor: pointer;\n",
              "      display: none;\n",
              "      fill: #1967D2;\n",
              "      height: 32px;\n",
              "      padding: 0 0 0 0;\n",
              "      width: 32px;\n",
              "    }\n",
              "\n",
              "    .colab-df-convert:hover {\n",
              "      background-color: #E2EBFA;\n",
              "      box-shadow: 0px 1px 2px rgba(60, 64, 67, 0.3), 0px 1px 3px 1px rgba(60, 64, 67, 0.15);\n",
              "      fill: #174EA6;\n",
              "    }\n",
              "\n",
              "    [theme=dark] .colab-df-convert {\n",
              "      background-color: #3B4455;\n",
              "      fill: #D2E3FC;\n",
              "    }\n",
              "\n",
              "    [theme=dark] .colab-df-convert:hover {\n",
              "      background-color: #434B5C;\n",
              "      box-shadow: 0px 1px 3px 1px rgba(0, 0, 0, 0.15);\n",
              "      filter: drop-shadow(0px 1px 2px rgba(0, 0, 0, 0.3));\n",
              "      fill: #FFFFFF;\n",
              "    }\n",
              "  </style>\n",
              "\n",
              "      <script>\n",
              "        const buttonEl =\n",
              "          document.querySelector('#df-aa5b4392-6fbf-4c0d-a18f-0cc1af480a53 button.colab-df-convert');\n",
              "        buttonEl.style.display =\n",
              "          google.colab.kernel.accessAllowed ? 'block' : 'none';\n",
              "\n",
              "        async function convertToInteractive(key) {\n",
              "          const element = document.querySelector('#df-aa5b4392-6fbf-4c0d-a18f-0cc1af480a53');\n",
              "          const dataTable =\n",
              "            await google.colab.kernel.invokeFunction('convertToInteractive',\n",
              "                                                     [key], {});\n",
              "          if (!dataTable) return;\n",
              "\n",
              "          const docLinkHtml = 'Like what you see? Visit the ' +\n",
              "            '<a target=\"_blank\" href=https://colab.research.google.com/notebooks/data_table.ipynb>data table notebook</a>'\n",
              "            + ' to learn more about interactive tables.';\n",
              "          element.innerHTML = '';\n",
              "          dataTable['output_type'] = 'display_data';\n",
              "          await google.colab.output.renderOutput(dataTable, element);\n",
              "          const docLink = document.createElement('div');\n",
              "          docLink.innerHTML = docLinkHtml;\n",
              "          element.appendChild(docLink);\n",
              "        }\n",
              "      </script>\n",
              "    </div>\n",
              "  </div>\n",
              "  "
            ]
          },
          "metadata": {},
          "execution_count": 4
        }
      ],
      "source": [
        "# Importar librerías\n",
        "import pandas as pd\n",
        "import numpy as np\n",
        "\n",
        "# Leer datos desde disco\n",
        "df = pd.read_csv('/content/drive/MyDrive/Datos_2002_2021/Train_2021.csv',header=0)\n",
        "\n",
        "# columnas que se van a utilizar de la matriz\n",
        "df.columns = ['X', 'Y', 'R', 'G','B', 'ExG', 'ExR','ExGR', 'CIVE', 'VEG', 'NGRDI','NDI','Clase']\n",
        "\n",
        "print('Class labels', np.unique(df['Clase']))\n",
        "df.head()\n"
      ]
    },
    {
      "cell_type": "code",
      "source": [
        "# Dividir conjunto de datos 90 % entrenamiento y 10 % para validacion\n",
        "# Semilla random_state = 1\n",
        "from sklearn.model_selection import train_test_split\n",
        "\n",
        "X, y = df.iloc[:, 2:12].values, df.iloc[:, 12].values\n",
        "\n",
        "X_train, X_test, y_train, y_test =\\\n",
        "    train_test_split(X, y, \n",
        "                     test_size=0.1, \n",
        "                     random_state=1, \n",
        "                     stratify=y)\n",
        "\n",
        "# Estandarizar los datos\n",
        "from sklearn.preprocessing import StandardScaler\n",
        "\n",
        "stdsc = StandardScaler()\n",
        "X_train_std = stdsc.fit_transform(X_train)\n",
        "X_test_std = stdsc.transform(X_test)\n"
      ],
      "metadata": {
        "id": "2EN9QKjdj1Yh"
      },
      "execution_count": 5,
      "outputs": []
    },
    {
      "cell_type": "code",
      "source": [
        "# Algoritmos de selección de características secuenciales selección secuencial hacia atrás (SBS)\n",
        "from sklearn.base import clone\n",
        "from itertools import combinations\n",
        "import numpy as np\n",
        "from sklearn.metrics import accuracy_score\n",
        "from sklearn.model_selection import train_test_split\n",
        "from sklearn.base import clone\n",
        "from itertools import combinations\n",
        "import numpy as np\n",
        "from sklearn.metrics import accuracy_score\n",
        "from sklearn.model_selection import train_test_split\n",
        "\n",
        "# Crear clase SBS\n",
        "class SBS():\n",
        "    def __init__(self, estimator, k_features, scoring=accuracy_score,\n",
        "                 test_size=0.1, random_state=1):\n",
        "        self.scoring = scoring\n",
        "        self.estimator = clone(estimator)\n",
        "        self.k_features = k_features\n",
        "        self.test_size = test_size\n",
        "        self.random_state = random_state\n",
        "\n",
        "    def fit(self, X, y):\n",
        "      # Ajuste de los datos  \n",
        "      X_train, X_test, y_train, y_test = \\\n",
        "          train_test_split(X, y, test_size=self.test_size,\n",
        "                           random_state=self.random_state)\n",
        "      \n",
        "                         \n",
        "      dim = X_train.shape[1]\n",
        "      self.indices_ = tuple(range(dim))\n",
        "      self.subsets_ = [self.indices_]\n",
        "      score = self._calc_score(X_train, y_train, \n",
        "                                 X_test, y_test, self.indices_)\n",
        "      self.scores_ = [score]\n",
        "\n",
        "      # Calcular score de las caracteristicas\n",
        "      while dim > self.k_features:\n",
        "          scores = []\n",
        "          subsets = []\n",
        "\n",
        "          for p in combinations(self.indices_, r=dim - 1):\n",
        "              score = self._calc_score(X_train, y_train, \n",
        "                                         X_test, y_test, p)\n",
        "              scores.append(score)\n",
        "              subsets.append(p)\n",
        "\n",
        "          best = np.argmax(scores)\n",
        "          self.indices_ = subsets[best]\n",
        "          self.subsets_.append(self.indices_)\n",
        "          dim -= 1\n",
        "\n",
        "          self.scores_.append(scores[best])\n",
        "      self.k_score_ = self.scores_[-1]\n",
        "\n",
        "      return self\n",
        "\n",
        "    def transform(self, X):\n",
        "        return X[:, self.indices_]\n",
        "\n",
        "    # Predecir y calcular indices\n",
        "    def _calc_score(self, X_train, y_train, X_test, y_test, indices):\n",
        "        self.estimator.fit(X_train[:, indices], y_train)\n",
        "        y_pred = self.estimator.predict(X_test[:, indices])\n",
        "        score = self.scoring(y_test, y_pred)\n",
        "        return score\n"
      ],
      "metadata": {
        "id": "vUHh4rFgj4FV"
      },
      "execution_count": 23,
      "outputs": []
    },
    {
      "cell_type": "code",
      "source": [
        "# Trazar numero de características contra precisión global\n",
        "import matplotlib.pyplot as plt\n",
        "from sklearn.neighbors import KNeighborsClassifier\n",
        "from sklearn.ensemble import RandomForestClassifier\n",
        "RF = RandomForestClassifier(criterion='gini', max_depth=10, n_estimators=100,\n",
        "                       n_jobs=-1, random_state=1)\n",
        "\n",
        "# Seleccionar características\n",
        "sbs = SBS(RF, k_features=1)\n",
        "sbs.fit(X, y)\n",
        "\n",
        "# representación gráfica del rendimiento de los subconjuntos de características\n",
        "k_feat = [len(k) for k in sbs.subsets_]\n",
        "\n",
        "plt.plot(k_feat, sbs.scores_, marker='o')\n",
        "plt.ylim([0.7, 1.02])\n",
        "plt.ylabel('Accuracy')\n",
        "plt.xlabel('Numero de caracteristicas')\n",
        "plt.grid()\n",
        "plt.tight_layout()\n",
        "# plt.savefig('images/04_08.png', dpi=300)\n",
        "plt.show()\n"
      ],
      "metadata": {
        "colab": {
          "base_uri": "https://localhost:8080/",
          "height": 297
        },
        "id": "n85ReXQhj8gg",
        "outputId": "0e8d4fb4-ab03-4838-9365-93d13ee2a21e"
      },
      "execution_count": 24,
      "outputs": [
        {
          "output_type": "display_data",
          "data": {
            "text/plain": [
              "<Figure size 432x288 with 1 Axes>"
            ],
            "image/png": "[encoded data removed]"
          },
          "metadata": {
            "needs_background": "light"
          }
        }
      ]
    },
    {
      "cell_type": "code",
      "source": [
        "# Mostrar las primeras 4 características\n",
        "k6 = list(sbs.subsets_[5])\n",
        "print(df.columns[1:][k6])\n"
      ],
      "metadata": {
        "colab": {
          "base_uri": "https://localhost:8080/"
        },
        "id": "-sRZITXmkAq4",
        "outputId": "d3901218-ef7f-46b9-9b56-2d8aafdafa8e"
      },
      "execution_count": 25,
      "outputs": [
        {
          "output_type": "stream",
          "name": "stdout",
          "text": [
            "Index(['Y', 'R', 'G', 'ExGR', 'VEG'], dtype='object')\n"
          ]
        }
      ]
    },
    {
      "cell_type": "code",
      "source": [
        "# Evaluamos el rendimiento del clasificador RF en el conjunto de prueba original\n",
        "RF.fit(X_train_std, y_train)\n",
        "print('Training accuracy:', RF.score(X_train_std, y_train))\n",
        "print('Test accuracy:', RF.score(X_test_std, y_test))"
      ],
      "metadata": {
        "colab": {
          "base_uri": "https://localhost:8080/"
        },
        "id": "WPXFNQ92lJC1",
        "outputId": "da738a38-de5c-43dd-87bf-1487dc0b3ad7"
      },
      "execution_count": 26,
      "outputs": [
        {
          "output_type": "stream",
          "name": "stdout",
          "text": [
            "Training accuracy: 0.9549737072743207\n",
            "Test accuracy: 0.9270935960591133\n"
          ]
        }
      ]
    },
    {
      "cell_type": "code",
      "source": [
        "#Usamos el subconjunto de tres características seleccionado y veamos qué tan bien se desempeña RF:\n",
        "RF.fit(X_train_std[:, k6], y_train)\n",
        "print('Training accuracy:', RF.score(X_train_std[:, k6], y_train))\n",
        "print('Test accuracy:', RF.score(X_test_std[:, k6], y_test))"
      ],
      "metadata": {
        "colab": {
          "base_uri": "https://localhost:8080/"
        },
        "id": "lhm--nPGlKe_",
        "outputId": "dff88a4c-077f-4441-d9d4-25767bd51c15"
      },
      "execution_count": 27,
      "outputs": [
        {
          "output_type": "stream",
          "name": "stdout",
          "text": [
            "Training accuracy: 0.9544259421560035\n",
            "Test accuracy: 0.9241379310344827\n"
          ]
        }
      ]
    },
    {
      "cell_type": "code",
      "source": [
        "# Evaluación de la importancia de las características con Random Forests\n",
        "from sklearn.ensemble import RandomForestClassifier\n",
        "\n",
        "feat_labels = df.columns[2:]\n",
        "# Creamos un modelo RF\n",
        "forest = RandomForestClassifier(criterion='gini', max_depth=10, max_features = \"log2\", n_estimators=300,\n",
        "                       n_jobs=-1, random_state=1)\n",
        "                       \n",
        "forest.fit(X_train, y_train)\n",
        "importances = forest.feature_importances_\n",
        "\n",
        "indices = np.argsort(importances)[::-1]\n",
        "\n",
        "for f in range(X_train.shape[1]):\n",
        "    print(\"%2d) %-*s %f\" % (f + 1, 30, \n",
        "                            feat_labels[indices[f]], \n",
        "                            importances[indices[f]]))\n",
        "\n",
        "plt.title('Feature Importance')\n",
        "plt.bar(range(X_train.shape[1]), \n",
        "        importances[indices],\n",
        "        align='center')\n",
        "\n",
        "plt.xticks(range(X_train.shape[1]), \n",
        "           feat_labels[indices], rotation=90)\n",
        "plt.xlim([-1, X_train.shape[1]])\n",
        "plt.tight_layout()\n",
        "#plt.savefig('images/04_09.png', dpi=300)\n",
        "plt.show()\n"
      ],
      "metadata": {
        "colab": {
          "base_uri": "https://localhost:8080/",
          "height": 480
        },
        "id": "sda-Wj2MkDio",
        "outputId": "ab85707a-840e-400d-b120-f4524b1b12f6"
      },
      "execution_count": 31,
      "outputs": [
        {
          "output_type": "stream",
          "name": "stdout",
          "text": [
            " 1) R                              0.186060\n",
            " 2) G                              0.138528\n",
            " 3) ExR                            0.112211\n",
            " 4) NGRDI                          0.106960\n",
            " 5) NDI                            0.100584\n",
            " 6) B                              0.096341\n",
            " 7) ExGR                           0.087903\n",
            " 8) VEG                            0.086378\n",
            " 9) CIVE                           0.054559\n",
            "10) ExG                            0.030477\n"
          ]
        },
        {
          "output_type": "display_data",
          "data": {
            "text/plain": [
              "<Figure size 432x288 with 1 Axes>"
            ],
            "image/png": "[encoded data removed]"
          },
          "metadata": {
            "needs_background": "light"
          }
        }
      ]
    },
    {
      "cell_type": "code",
      "source": [
        "# Establecemos un umbral: .07\n",
        "from sklearn.feature_selection import SelectFromModel\n",
        "\n",
        "sfm = SelectFromModel(forest, threshold=0.07, prefit=True)\n",
        "X_selected = sfm.transform(X_train)\n",
        "print('Número de entidades que cumplen este criterio de umbral:', \n",
        "      X_selected.shape[1])\n"
      ],
      "metadata": {
        "colab": {
          "base_uri": "https://localhost:8080/"
        },
        "id": "XY-jYPwLkHC1",
        "outputId": "38905f40-2678-43e0-c8b0-edf8f0e8c7a4"
      },
      "execution_count": 29,
      "outputs": [
        {
          "output_type": "stream",
          "name": "stdout",
          "text": [
            "Número de entidades que cumplen este criterio de umbral: 8\n"
          ]
        }
      ]
    },
    {
      "cell_type": "code",
      "source": [
        "# Mostrar las mejores características de acuerdo al umbral\n",
        "for f in range(X_selected.shape[1]):\n",
        "    print(\"%2d) %-*s %f\" % (f + 1, 30, \n",
        "                            feat_labels[indices[f]], \n",
        "                            importances[indices[f]]))\n"
      ],
      "metadata": {
        "colab": {
          "base_uri": "https://localhost:8080/"
        },
        "id": "FbR__km4kLTw",
        "outputId": "706b39e3-322a-4529-e5a6-23efa55e635f"
      },
      "execution_count": 30,
      "outputs": [
        {
          "output_type": "stream",
          "name": "stdout",
          "text": [
            " 1) R                              0.186060\n",
            " 2) G                              0.138528\n",
            " 3) ExR                            0.112211\n",
            " 4) NGRDI                          0.106960\n",
            " 5) NDI                            0.100584\n",
            " 6) B                              0.096341\n",
            " 7) ExGR                           0.087903\n",
            " 8) VEG                            0.086378\n"
          ]
        }
      ]
    }
  ]
}