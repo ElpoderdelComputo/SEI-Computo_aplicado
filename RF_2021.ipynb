{
  "nbformat": 4,
  "nbformat_minor": 0,
  "metadata": {
    "colab": {
      "name": "RF_2021.ipynb",
      "provenance": [],
      "toc_visible": true,
      "mount_file_id": "1nIm_xMkh--r7ZswXPrGIFYyg1jMML91B",
      "authorship_tag": "ABX9TyMWkbNim7e4trMoQjzDovq9",
      "include_colab_link": true
    },
    "kernelspec": {
      "name": "python3",
      "display_name": "Python 3"
    },
    "language_info": {
      "name": "python"
    }
  },
  "cells": [
    {
      "cell_type": "markdown",
      "metadata": {
        "id": "view-in-github",
        "colab_type": "text"
      },
      "source": [
        "<a href=\"https://colab.research.google.com/github/ElpoderdelComputo/SEI-Computo_aplicado/blob/main/RF_2021.ipynb\" target=\"_parent\"><img src=\"https://colab.research.google.com/assets/colab-badge.svg\" alt=\"Open In Colab\"/></a>"
      ]
    },
    {
      "cell_type": "markdown",
      "source": [
        "\n",
        ">> # COLEGIO DE POSTGRADUADOS\n",
        "\n",
        "INSTITUCIÓN DE ENSEÑANZA E INVESTIGACIÓN EN CIENCIAS AGRÍCOLAS\n",
        "\n",
        ">>>> CAMPUS MONTECILLO\n",
        "\n",
        "POSGRADO EN SOCIOECONOMÍA, ESTADÍSTICA E INFORMÁTICA\n",
        "\n",
        ">>>> **CÓMPUTO APLICADO**\n"
      ],
      "metadata": {
        "id": "uBnMTHGfhXUc"
      }
    },
    {
      "cell_type": "code",
      "source": [
        ""
      ],
      "metadata": {
        "id": "g1kWB5_1hZn0"
      },
      "execution_count": null,
      "outputs": []
    },
    {
      "cell_type": "markdown",
      "source": [
        "# **Clasificador: Bosque aleatorio  E2021**\n",
        "\n",
        ">**Autor:        José Rodríguez Rosales**"
      ],
      "metadata": {
        "id": "YmgQUFCEiTWW"
      }
    },
    {
      "cell_type": "code",
      "source": [
        "# -*- coding: utf-8 -*-\n",
        "\n",
        "# Importar las librerias a utilizar\n",
        "import pandas as pd\n",
        "# Abre archivo >>> Train_RF_2021.csv  cargando archivo desde disco\n",
        "#df= pd.read_csv(\"/content/Train_RF_2021.csv\", header=0)\n",
        "# Abre archivo >>> Train_RF_2021.csv desde google drive\n",
        "df= pd.read_csv(\"/content/drive/MyDrive/Datos_2002_2021/Train_2021.csv\", header=0)\n",
        "\n",
        "#Mostrar primeros 5 registros\n",
        "df[:5]"
      ],
      "metadata": {
        "id": "cgZFlS9Iq0ZK"
      },
      "execution_count": null,
      "outputs": []
    },
    {
      "cell_type": "code",
      "source": [
        "import numpy as np\n",
        "# Valores de X: R,G,B,ExR,NGRDI\n",
        "X = df.iloc[: , [2,3,4,5,10]].values\n",
        "# y es la columna 12\n",
        "y = df.iloc[: , 12].values\n",
        "\n",
        "#imprime etiquetas de clases\n",
        "print('Etiquetas de clase:', np.unique(y))\n",
        "print(X[:5])"
      ],
      "metadata": {
        "id": "4UxYD4U_q1nh"
      },
      "execution_count": null,
      "outputs": []
    },
    {
      "cell_type": "code",
      "execution_count": null,
      "metadata": {
        "id": "6iEHHgNK4y34"
      },
      "outputs": [],
      "source": [
        "from sklearn.model_selection import train_test_split\n",
        "from sklearn.preprocessing import StandardScaler\n",
        "from sklearn.ensemble import RandomForestClassifier\n",
        "\n",
        "## División de datos en 90% de entrenamiento y 10% de datos de prueba:\n",
        "# random_state = 1\n",
        "X_train, X_test, y_train, y_test = train_test_split(X, y,\n",
        "                                                    test_size=0.10,\n",
        "                                                    stratify=y,\n",
        "                                                    random_state=1)\n",
        "\n",
        "# Mostrar cuantos datos hay en total: en entrenamiento y prueba\n",
        "print('\\nNumero de etiquetas en y:', np.bincount(y))\n",
        "print('Numero de etiquetas en y_train:', np.bincount(y_train))\n",
        "print('Numero de etiquetas en y_test:', np.bincount(y_test))\n",
        "\n",
        "# Estandarizar los datos\n",
        "stdsc = StandardScaler()\n",
        "\n",
        "X_train_std = stdsc.fit_transform(X_train)\n",
        "X_test_std = stdsc.transform(X_test)"
      ]
    },
    {
      "cell_type": "code",
      "source": [
        "# una prueba rapida \n",
        "clf = RandomForestClassifier(criterion='gini', max_depth=10, n_estimators=100,\n",
        "                       n_jobs=-1, random_state=1)\n",
        "\n",
        "## Se entrena el modelo\n",
        "clf.fit(X_train_std, y_train)\n",
        "# score de entrenamiento \n",
        "pg2 = clf.score(X_train_std, y_train)\n",
        "\n",
        "print('\\nTrain Accuracy clf: %.5f' % pg2)\n",
        "\n",
        "#Evaluando la prediccion con Xtest\n",
        "y_pred = clf.predict(X_test_std)\n",
        "\n",
        "print('Test Accuracy clf: %.5f' % clf.score(X_test_std, y_test))"
      ],
      "metadata": {
        "id": "lFdJOt2aqq4-"
      },
      "execution_count": null,
      "outputs": []
    },
    {
      "cell_type": "code",
      "execution_count": null,
      "metadata": {
        "colab": {
          "base_uri": "https://localhost:8080/"
        },
        "id": "ddYA7GtLiXzQ",
        "outputId": "431e7ca6-5399-4003-b922-08bed3529751"
      },
      "outputs": [
        {
          "output_type": "stream",
          "name": "stdout",
          "text": [
            "0.9258365999884706\n",
            "{'criterion': 'entropy', 'max_depth': 10, 'max_features': 'log2', 'n_estimators': 50}\n"
          ]
        }
      ],
      "source": [
        "from sklearn.model_selection import GridSearchCV\n",
        "# Búsqueda exhaustiva de hiperparámetros especificados para un estimador\n",
        "\n",
        "# Número de árboles en el random forest (ne)\n",
        "n_estimators = [50,100,120,150,200]\n",
        "\n",
        "# El número de características a considerar al buscar la mejor división: (mc)\n",
        "max_features = ['log2','sqrt','auto']\n",
        "\n",
        "#criterio de impureza (cr)\n",
        "criterion = ['gini','entropy'] \n",
        "\n",
        "# Número máximo de niveles en el árbol (mp)\n",
        "max_depth = [8,10,11,12,13,14,15]\n",
        "\n",
        "# Crear retícula\n",
        "param_grid = [{'n_estimators': n_estimators,\n",
        "               'criterion': criterion,\n",
        "               'max_features': max_features,\n",
        "               'max_depth': max_depth}]\n",
        "\n",
        "# Crear el modelo base para ajustar\n",
        "rf = RandomForestClassifier()\n",
        "\n",
        "#busqueda exhaustiva con validacion cruzada k=10\n",
        "gs = GridSearchCV(estimator=rf, \n",
        "                  param_grid=param_grid, \n",
        "                  scoring='accuracy', \n",
        "                  refit=True,\n",
        "                  cv=10,\n",
        "                  n_jobs=-1)\n",
        "\n",
        "# Sea justan los modelos\n",
        "gs = gs.fit(X_train_std, y_train)\n",
        "\n",
        "# Mejor score\n",
        "print(gs.best_score_)\n",
        "# Mejores parametros\n",
        "print(gs.best_params_)\n",
        "\n",
        "# El mejor estimador \n",
        "clf = gs.best_estimator_"
      ]
    },
    {
      "cell_type": "code",
      "source": [
        "# Evaluamos el mejor estumador con X_test_std y y_test\n",
        "print('Test accuracy: %.5f' % clf.score(X_test_std, y_test))"
      ],
      "metadata": {
        "colab": {
          "base_uri": "https://localhost:8080/"
        },
        "id": "94RhG225ukSG",
        "outputId": "99d6523f-7ffc-481c-d407-edb93db34ed2"
      },
      "execution_count": null,
      "outputs": [
        {
          "output_type": "stream",
          "name": "stdout",
          "text": [
            "Test accuracy: 0.92414\n"
          ]
        }
      ]
    },
    {
      "cell_type": "code",
      "execution_count": null,
      "metadata": {
        "colab": {
          "base_uri": "https://localhost:8080/"
        },
        "id": "1GCNKCX9SSD6",
        "outputId": "b46f138d-07f3-4d7a-abc8-9cef96985ebb"
      },
      "outputs": [
        {
          "output_type": "stream",
          "name": "stdout",
          "text": [
            "Accuracy: 0.924 +/- 0.005\n",
            "F1 score: 0.911 +/- 0.005\n",
            "Presicion: 0.919 +/- 0.006\n",
            "Recall: 0.906 +/- 0.004\n",
            "\n",
            "\t\tAccuracy\n",
            "\n",
            "[0.92552026 0.92442497 0.93099671 0.92661555 0.9211391  0.92552026\n",
            " 0.91456736 0.9211391  0.93099671 0.9211391 ]\n",
            "\n",
            "\t\t F1 \n",
            "\n",
            "[0.91017295 0.91065522 0.91705116 0.91233462 0.90603366 0.91232406\n",
            " 0.90166116 0.90936025 0.9178617  0.90772503]\n",
            "\n",
            "\t\t Prec \n",
            "\n",
            "[0.92129205 0.91743696 0.92782616 0.92431884 0.91648554 0.92132757\n",
            " 0.91010091 0.9123445  0.92562706 0.91244426]\n",
            "\n",
            "\t\t Rec \n",
            "\n",
            "[0.90453798 0.90665759 0.91217367 0.90684789 0.90131885 0.90860989\n",
            " 0.89775243 0.90721054 0.91387074 0.9053019 ]\n"
          ]
        }
      ],
      "source": [
        "# Validacion cruzada con k=10 del mejor modelo ajustado \n",
        "\n",
        "from sklearn.metrics import precision_score, recall_score, f1_score,accuracy_score\n",
        "from sklearn.metrics import make_scorer\n",
        "from sklearn.model_selection import StratifiedShuffleSplit\n",
        "from sklearn.model_selection import cross_validate\n",
        "\n",
        "# Metricas de evaluación con todos los datos \n",
        "scoring = {'prec_weighted': make_scorer(precision_score, average='macro'),\n",
        "          'rec_weighted': make_scorer(recall_score, average='macro'),\n",
        "          'f1_weighted': make_scorer(f1_score, average='macro'),\n",
        "          'acc_weighted': make_scorer(accuracy_score)}\n",
        "\n",
        "\n",
        "# Se utiliza mismo conjunto de datos\n",
        "# División 90% de datos para entrenamiento, 10% de daatos para test\n",
        "# random_state = 1 , k = 10\n",
        "cvA = StratifiedShuffleSplit(n_splits=10, random_state=1)\n",
        "\n",
        "# Se asignan las matrices de los datos de entrenamiento y prueba\n",
        "crossVA = cvA.split(X_train_std, y_train)\n",
        "\n",
        "# se inicia validacion\n",
        "scores = cross_validate(estimator=clf,\n",
        "                        X=X_train_std,y=y_train, \n",
        "                        scoring = scoring, \n",
        "                        return_estimator= True, \n",
        "                        cv = crossVA,\n",
        "                        n_jobs=-1)\n",
        "\n",
        "# Se imprimen los valores promedio y desviacion estandard de cada score\n",
        "#print('CV scores: %s' % scores)\n",
        "print('Accuracy: %.3f +/- %.3f' % (np.mean(scores['test_acc_weighted']),np.std(scores['test_acc_weighted'])))\n",
        "print('F1 score: %.3f +/- %.3f' % (np.mean(scores['test_f1_weighted']),np.std(scores['test_f1_weighted'])))\n",
        "print('Presicion: %.3f +/- %.3f' % (np.mean(scores['test_prec_weighted']),np.std(scores['test_prec_weighted'])))\n",
        "print('Recall: %.3f +/- %.3f' % (np.mean(scores['test_rec_weighted']),np.std(scores['test_rec_weighted'])))\n",
        "# se muestran los valores de cada score por cada particion\n",
        "print(\"\\n\\t\\tAccuracy\\n\")\n",
        "print(scores['test_acc_weighted']) \n",
        "print(\"\\n\\t\\t F1 \\n\")\n",
        "print(scores['test_f1_weighted'])\n",
        "print(\"\\n\\t\\t Prec \\n\")\n",
        "print(scores['test_prec_weighted'])\n",
        "print(\"\\n\\t\\t Rec \\n\")\n",
        "print(scores['test_rec_weighted'])"
      ]
    },
    {
      "cell_type": "code",
      "source": [
        "# Guardando el mejor modelo\n",
        "import joblib\n",
        "joblib.dump(clf, \"./RF_SelCa_2021.pkl\")"
      ],
      "metadata": {
        "colab": {
          "base_uri": "https://localhost:8080/"
        },
        "id": "-9A7_83VzqDI",
        "outputId": "5b826b3a-eabb-4b4f-fb35-b344c2be0697"
      },
      "execution_count": null,
      "outputs": [
        {
          "output_type": "execute_result",
          "data": {
            "text/plain": [
              "['./RF_SelCa_2021.pkl']"
            ]
          },
          "metadata": {},
          "execution_count": 9
        }
      ]
    },
    {
      "cell_type": "code",
      "source": [
        ""
      ],
      "metadata": {
        "id": "PROE1t_Q_cgm"
      },
      "execution_count": null,
      "outputs": []
    },
    {
      "cell_type": "code",
      "source": [
        "# Mostrar Metricas por cada particion\n",
        "ACC = scores['test_acc_weighted']\n",
        "F1 = scores['test_f1_weighted']\n",
        "PREC = scores['test_prec_weighted']\n",
        "REC = scores['test_rec_weighted']\n",
        "\n",
        "print('CV, Part, acc,  F1,   prec,   Rec')\n",
        "for i in range(10):\n",
        "  print('CV:',i+1  , '%.5f' % ACC[i], '%.5f' % F1[i],'%.5f' %  PREC[i],'%.5f' % REC[i])"
      ],
      "metadata": {
        "colab": {
          "base_uri": "https://localhost:8080/"
        },
        "id": "PRBCgWeXu44c",
        "outputId": "65e18cdd-e226-4977-f888-6e615623d245"
      },
      "execution_count": null,
      "outputs": [
        {
          "output_type": "stream",
          "name": "stdout",
          "text": [
            "CV, Part, acc,  F1,   prec,   Rec\n",
            "CV: 1 0.92552 0.91017 0.92129 0.90454\n",
            "CV: 2 0.92442 0.91066 0.91744 0.90666\n",
            "CV: 3 0.93100 0.91705 0.92783 0.91217\n",
            "CV: 4 0.92662 0.91233 0.92432 0.90685\n",
            "CV: 5 0.92114 0.90603 0.91649 0.90132\n",
            "CV: 6 0.92552 0.91232 0.92133 0.90861\n",
            "CV: 7 0.91457 0.90166 0.91010 0.89775\n",
            "CV: 8 0.92114 0.90936 0.91234 0.90721\n",
            "CV: 9 0.93100 0.91786 0.92563 0.91387\n",
            "CV: 10 0.92114 0.90773 0.91244 0.90530\n"
          ]
        }
      ]
    },
    {
      "cell_type": "code",
      "execution_count": null,
      "metadata": {
        "id": "-eu5e-WDiArP",
        "colab": {
          "base_uri": "https://localhost:8080/",
          "height": 297
        },
        "outputId": "2e7f4b83-039c-4ce1-ff3e-ab2518b7ac24"
      },
      "outputs": [
        {
          "output_type": "display_data",
          "data": {
            "text/plain": [
              "<Figure size 432x288 with 1 Axes>"
            ],
            "image/png": "[encoded data removed]"
          },
          "metadata": {
            "needs_background": "light"
          }
        }
      ],
      "source": [
        "import matplotlib.pyplot as plt\n",
        "import matplotlib\n",
        "from sklearn.pipeline import make_pipeline\n",
        "from sklearn.model_selection import learning_curve\n",
        "\n",
        "# Mostrar curvas de aprendizaje\n",
        "# validacion cruzada k = 10\n",
        "# Creamos tuberia COn el mejor modelo\n",
        "\n",
        "train_sizes, train_scores, test_scores = learning_curve(estimator=clf,\n",
        "                               X=X_train_std,\n",
        "                               y=y_train,\n",
        "                               train_sizes=np.linspace(0.1, 1.0, 10),\n",
        "                               cv=10,\n",
        "                               n_jobs=-1)\n",
        "\n",
        "# Calculos de media y desviacion estandard\n",
        "train_mean = np.mean(train_scores, axis=1)\n",
        "train_std = np.std(train_scores, axis=1)\n",
        "test_mean = np.mean(test_scores, axis=1)\n",
        "test_std = np.std(test_scores, axis=1)\n",
        "\n",
        "# Trazo de acc de entrenamiento\n",
        "plt.plot(train_sizes, train_mean,\n",
        "         color='blue', marker='o',\n",
        "         markersize=5, label='ACC de entrenamiento')\n",
        "\n",
        "# Trazo de media y desviacion estandard de etrenamiento\n",
        "plt.fill_between(train_sizes,\n",
        "                 train_mean + train_std,\n",
        "                 train_mean - train_std,\n",
        "                 alpha=0.15, color='blue')\n",
        "\n",
        "# Trazo de acc de validación en verde\n",
        "plt.plot(train_sizes, test_mean,\n",
        "         color='green', linestyle='--',\n",
        "         marker='s', markersize=5,\n",
        "         label='ACC de la validación')\n",
        "\n",
        "# Trazo de media y desviacion estandard de la validacion\n",
        "plt.fill_between(train_sizes,\n",
        "                 test_mean + test_std,\n",
        "                 test_mean - test_std,\n",
        "                 alpha=0.15, color='green')\n",
        "\n",
        "plt.grid()\n",
        "plt.title('RF2021')\n",
        "plt.xlabel('Numero de Muestras de entrenamuento')\n",
        "plt.ylabel('Precisión global')\n",
        "plt.legend(loc='lower right')\n",
        "plt.ylim([0.85, 1.0])\n",
        "plt.tight_layout()\n",
        "# plt.savefig('images/06_05.png', dpi=300)\n",
        "plt.show()"
      ]
    },
    {
      "cell_type": "code",
      "source": [
        "# Matriz de confusion normalizada\n",
        "from sklearn.metrics import confusion_matrix\n",
        "from sklearn.metrics import ConfusionMatrixDisplay\n",
        "\n",
        "# Predecir las etiquetas de X_test_std\n",
        "y_pred = clf.predict(X_test_std)\n",
        "cm = confusion_matrix(y_test, y_pred, normalize='true')\n",
        "\n",
        "# Prepara la matriz y agrega etiquetas\n",
        "cm_display = ConfusionMatrixDisplay(cm, display_labels=['A','P','V','U'])\n",
        "cm_display.plot()\n",
        "# Agrega titulos y ejes y mostrar\n",
        "cm_display.ax_.set(title='RF2021', xlabel='Clases predichas', ylabel='Clases verdaderas')"
      ],
      "metadata": {
        "colab": {
          "base_uri": "https://localhost:8080/",
          "height": 347
        },
        "id": "zPJYFtLLu-5_",
        "outputId": "11760a5a-c924-4b70-dfb9-c3b5ca47da2a"
      },
      "execution_count": null,
      "outputs": [
        {
          "output_type": "execute_result",
          "data": {
            "text/plain": [
              "[Text(0, 0.5, 'Clases verdaderas'),\n",
              " Text(0.5, 0, 'Clases predichas'),\n",
              " Text(0.5, 1.0, 'RF2021')]"
            ]
          },
          "metadata": {},
          "execution_count": 14
        },
        {
          "output_type": "display_data",
          "data": {
            "text/plain": [
              "<Figure size 432x288 with 2 Axes>"
            ],
            "image/png": "[encoded data removed]"
          },
          "metadata": {
            "needs_background": "light"
          }
        }
      ]
    },
    {
      "cell_type": "code",
      "source": [
        "# Mostrar metricas por clase\n",
        "from sklearn.metrics import precision_recall_fscore_support as score\n",
        "\n",
        "# Calcular los valores de la metricas\n",
        "precision, recall, fscore, support = score(y_test, y_pred)\n",
        "\n",
        "# Mostrar metricas\n",
        "print('Precision: {}'.format(precision))\n",
        "print('Recall: {}'.format(recall))\n",
        "print('F1score: {}'.format(fscore))\n",
        "# Valores calculados on numero de muestras\n",
        "#print('Support: {}'.format(support))"
      ],
      "metadata": {
        "colab": {
          "base_uri": "https://localhost:8080/"
        },
        "id": "JGDHLu8dvHgy",
        "outputId": "3fcbd0f7-65e8-4310-a62c-630347980180"
      },
      "execution_count": null,
      "outputs": [
        {
          "output_type": "stream",
          "name": "stdout",
          "text": [
            "Precision: [0.85159011 0.95633188 0.98567335 0.87012987]\n",
            "Recall: [0.90262172 0.97333333 0.98005698 0.77906977]\n",
            "F1score: [0.87636364 0.96475771 0.98285714 0.82208589]\n"
          ]
        }
      ]
    },
    {
      "cell_type": "code",
      "source": [
        "# Curvas ROC AUC\n",
        "# ...................................................\n",
        "\n",
        "# Bibliotecas necesarias\n",
        "from itertools import cycle\n",
        "from sklearn import svm, datasets\n",
        "from sklearn.metrics import roc_curve, auc\n",
        "from sklearn.preprocessing import label_binarize\n",
        "from sklearn.multiclass import OneVsRestClassifier\n",
        "from scipy import interp\n",
        "\n",
        "n_classes = 4\n",
        "\n",
        "# Predecir cada clase contra las otras\n",
        "y_score = clf.fit(X_train_std, y_train).predict_proba(X_test_std)\n",
        "\n",
        "# Calcule la ROC de cada categoría\n",
        "fpr = dict()\n",
        "tpr = dict()\n",
        "roc_auc = dict()\n",
        "\n",
        "# Calcule la curva ROC macro-promedio y el área ROC \n",
        "y_test_dummies = pd.get_dummies(y_test, drop_first=False).values\n",
        "for i in range(n_classes):\n",
        "    fpr[i], tpr[i], _ = roc_curve(y_test_dummies[:, i], y_score[:, i])\n",
        "    roc_auc[i] = auc(fpr[i], tpr[i])\n",
        "\n",
        "# Agregue todas las tasas de falsos positivos\n",
        "all_fpr = np.unique(np.concatenate([fpr[i] for i in range(n_classes)]))\n",
        "\n",
        "# Interpolar todas las curvas ROC en estos puntos\n",
        "mean_tpr = np.zeros_like(all_fpr)\n",
        "for i in range(n_classes):\n",
        "    mean_tpr += interp(all_fpr, fpr[i], tpr[i])\n",
        "\n",
        "# Promediar y calcular el AUC macro\n",
        "mean_tpr /= n_classes\n",
        "fpr[\"macro\"] = all_fpr\n",
        "tpr[\"macro\"] = mean_tpr\n",
        "roc_auc[\"macro\"] = auc(fpr[\"macro\"], tpr[\"macro\"])\n",
        "\n",
        "# Trazar todas las curvas\n",
        "lw=2\n",
        "plt.figure()\n",
        "\n",
        "plt.plot(fpr[\"macro\"], tpr[\"macro\"],\n",
        "         label='Macro-promedio (AUC = {0:0.2f})'\n",
        "               ''.format(roc_auc[\"macro\"]),\n",
        "         color='navy', linestyle=':', linewidth=4)\n",
        "\n",
        "# Paleta de colores\n",
        "colors = cycle(['red', 'green', 'blue', 'cyan'])\n",
        "\n",
        "# Etiqueta de clases\n",
        "clases = ['A','P','V','U']\n",
        "\n",
        "# Trazo de las curvas por clase y agregar etiqueta de area AUC\n",
        "for i, color in zip(range(n_classes), colors):\n",
        "    plt.plot(fpr[i], tpr[i], color=color, lw=lw,\n",
        "             label='Clase {0} (AUC = {1:0.2f})'\n",
        "             ''.format(clases[i], roc_auc[i]))\n",
        "\n",
        "# Trazo de la diagonal punteada\n",
        "plt.plot([0, 1], [0, 1], 'k--', lw=lw)\n",
        "plt.xlim([-0.05, 1.0])\n",
        "plt.ylim([-0.05, 1.05])\n",
        "\n",
        "# Etiquetas de los ejes y titulos\n",
        "plt.xlabel('T F P')\n",
        "plt.ylabel('T V P')\n",
        "plt.title('Curvas ROC por clase (RF2021)')\n",
        "plt.legend(loc=\"lower right\")\n",
        "\n",
        "# Tazar\n",
        "plt.show()"
      ],
      "metadata": {
        "colab": {
          "base_uri": "https://localhost:8080/",
          "height": 332
        },
        "id": "b7JE4DBQtVIx",
        "outputId": "125e1bb5-8678-4dd4-a90d-f93a511f3e54"
      },
      "execution_count": null,
      "outputs": [
        {
          "output_type": "stream",
          "name": "stderr",
          "text": [
            "/usr/local/lib/python3.7/dist-packages/ipykernel_launcher.py:32: DeprecationWarning: scipy.interp is deprecated and will be removed in SciPy 2.0.0, use numpy.interp instead\n"
          ]
        },
        {
          "output_type": "display_data",
          "data": {
            "text/plain": [
              "<Figure size 432x288 with 1 Axes>"
            ],
            "image/png": "[encoded data removed]"
          },
          "metadata": {
            "needs_background": "light"
          }
        }
      ]
    },
    {
      "cell_type": "code",
      "source": [
        "# Curvas P-S AUC \n",
        "# ...................................................\n",
        "from sklearn.metrics import precision_recall_curve\n",
        "from sklearn.metrics import average_precision_score\n",
        "from sklearn.metrics import PrecisionRecallDisplay\n",
        "\n",
        "# Diccionarios para cada clase: P, S y promedio\n",
        "precision = dict()\n",
        "recall = dict()\n",
        "average_precision = dict()\n",
        "\n",
        "# Calcule los valores de P  y S\n",
        "for i in range(n_classes):\n",
        "    precision[i], recall[i], _ = precision_recall_curve(y_test_dummies[:, i], y_score[:, i])\n",
        "    average_precision[i] = average_precision_score(y_test_dummies[:, i], y_score[:, i])\n",
        "\n",
        "# Calcular micro-promedio: cuantificación de la puntuación en todas las clases conjuntamente\n",
        "precision[\"micro\"], recall[\"micro\"], _ = precision_recall_curve( y_test_dummies.ravel(), y_score.ravel())\n",
        "average_precision[\"micro\"] = average_precision_score(y_test_dummies, y_score, average=\"micro\")\n",
        "\n",
        "# Paleta de colores\n",
        "colors = cycle(['red', 'green', 'blue', 'cyan', \"teal\"])\n",
        "\n",
        "_, ax = plt.subplots(figsize=(6, 4))\n",
        "\n",
        "# Crear la figura\n",
        "display = PrecisionRecallDisplay(\n",
        "    recall=recall[\"micro\"],\n",
        "    precision=precision[\"micro\"],\n",
        "    average_precision=average_precision[\"micro\"],\n",
        ")\n",
        "display.plot(ax=ax, name=\"Micro-Promedio (AUC = \", color=\"K\")\n",
        "\n",
        "# Trazar cada curva por clase y etiquetas\n",
        "for i, color in zip(range(n_classes), colors):\n",
        "    display = PrecisionRecallDisplay(\n",
        "        recall=recall[i],\n",
        "        precision=precision[i],\n",
        "        average_precision=average_precision[i],\n",
        "    )\n",
        "    display.plot(ax=ax, name=f\"Clase {clases[i]} (AUC =\", color=color)\n",
        "\n",
        "# Configurar ejes\n",
        "handles, labels = display.ax_.get_legend_handles_labels()\n",
        "ax.set_xlim([0.0, 1.0])\n",
        "ax.set_ylim([0.0, 1.05])\n",
        "\n",
        "# Ubicar leyenda y titulo de la figura\n",
        "ax.legend(handles=handles, labels=labels, loc=\"best\")\n",
        "ax.set_title(\"Curva P - S\")\n",
        "plt.xlabel('Sensibilidad')\n",
        "plt.ylabel('Precisión')\n",
        "# Trazar\n",
        "plt.show()"
      ],
      "metadata": {
        "colab": {
          "base_uri": "https://localhost:8080/",
          "height": 295
        },
        "id": "QToBOFuW2-TN",
        "outputId": "57d68dbc-82a2-4b65-e301-6b5fd2927ef6"
      },
      "execution_count": null,
      "outputs": [
        {
          "output_type": "display_data",
          "data": {
            "text/plain": [
              "<Figure size 432x288 with 1 Axes>"
            ],
            "image/png": "[encoded data removed]"
          },
          "metadata": {
            "needs_background": "light"
          }
        }
      ]
    },
    {
      "cell_type": "code",
      "source": [
        "# Leer archivo con rgb e indices para predecir \n",
        "# X: R,G,B,ExR,NGRDI\n",
        "#df= pd.read_csv(\"Huehuetla_todo_2021.csv\",header=None) #base original\n",
        "df= pd.read_csv(\"/content/drive/MyDrive/Datos_2002_2021/Huehuetla_todo_2021.csv\",header=None) #base original\n",
        "\n",
        "df.head()"
      ],
      "metadata": {
        "colab": {
          "base_uri": "https://localhost:8080/",
          "height": 206
        },
        "id": "gOjj7oqXvPrL",
        "outputId": "836386ed-c7d2-487b-eb50-dd16672e06bf"
      },
      "execution_count": null,
      "outputs": [
        {
          "output_type": "execute_result",
          "data": {
            "text/plain": [
              "   0  1  2  3    4    5         6    7    8    9\n",
              "0  0  0  0  0  0.0  0.0  18.78745  0.0  0.0  0.0\n",
              "1  0  0  0  0  0.0  0.0  18.78745  0.0  0.0  0.0\n",
              "2  0  0  0  0  0.0  0.0  18.78745  0.0  0.0  0.0\n",
              "3  0  0  0  0  0.0  0.0  18.78745  0.0  0.0  0.0\n",
              "4  0  0  0  0  0.0  0.0  18.78745  0.0  0.0  0.0"
            ],
            "text/html": [
              "\n",
              "  <div id=\"df-37bf4761-7420-4faf-a180-25dc7172df18\">\n",
              "    <div class=\"colab-df-container\">\n",
              "      <div>\n",
              "<style scoped>\n",
              "    .dataframe tbody tr th:only-of-type {\n",
              "        vertical-align: middle;\n",
              "    }\n",
              "\n",
              "    .dataframe tbody tr th {\n",
              "        vertical-align: top;\n",
              "    }\n",
              "\n",
              "    .dataframe thead th {\n",
              "        text-align: right;\n",
              "    }\n",
              "</style>\n",
              "<table border=\"1\" class=\"dataframe\">\n",
              "  <thead>\n",
              "    <tr style=\"text-align: right;\">\n",
              "      <th></th>\n",
              "      <th>0</th>\n",
              "      <th>1</th>\n",
              "      <th>2</th>\n",
              "      <th>3</th>\n",
              "      <th>4</th>\n",
              "      <th>5</th>\n",
              "      <th>6</th>\n",
              "      <th>7</th>\n",
              "      <th>8</th>\n",
              "      <th>9</th>\n",
              "    </tr>\n",
              "  </thead>\n",
              "  <tbody>\n",
              "    <tr>\n",
              "      <th>0</th>\n",
              "      <td>0</td>\n",
              "      <td>0</td>\n",
              "      <td>0</td>\n",
              "      <td>0</td>\n",
              "      <td>0.0</td>\n",
              "      <td>0.0</td>\n",
              "      <td>18.78745</td>\n",
              "      <td>0.0</td>\n",
              "      <td>0.0</td>\n",
              "      <td>0.0</td>\n",
              "    </tr>\n",
              "    <tr>\n",
              "      <th>1</th>\n",
              "      <td>0</td>\n",
              "      <td>0</td>\n",
              "      <td>0</td>\n",
              "      <td>0</td>\n",
              "      <td>0.0</td>\n",
              "      <td>0.0</td>\n",
              "      <td>18.78745</td>\n",
              "      <td>0.0</td>\n",
              "      <td>0.0</td>\n",
              "      <td>0.0</td>\n",
              "    </tr>\n",
              "    <tr>\n",
              "      <th>2</th>\n",
              "      <td>0</td>\n",
              "      <td>0</td>\n",
              "      <td>0</td>\n",
              "      <td>0</td>\n",
              "      <td>0.0</td>\n",
              "      <td>0.0</td>\n",
              "      <td>18.78745</td>\n",
              "      <td>0.0</td>\n",
              "      <td>0.0</td>\n",
              "      <td>0.0</td>\n",
              "    </tr>\n",
              "    <tr>\n",
              "      <th>3</th>\n",
              "      <td>0</td>\n",
              "      <td>0</td>\n",
              "      <td>0</td>\n",
              "      <td>0</td>\n",
              "      <td>0.0</td>\n",
              "      <td>0.0</td>\n",
              "      <td>18.78745</td>\n",
              "      <td>0.0</td>\n",
              "      <td>0.0</td>\n",
              "      <td>0.0</td>\n",
              "    </tr>\n",
              "    <tr>\n",
              "      <th>4</th>\n",
              "      <td>0</td>\n",
              "      <td>0</td>\n",
              "      <td>0</td>\n",
              "      <td>0</td>\n",
              "      <td>0.0</td>\n",
              "      <td>0.0</td>\n",
              "      <td>18.78745</td>\n",
              "      <td>0.0</td>\n",
              "      <td>0.0</td>\n",
              "      <td>0.0</td>\n",
              "    </tr>\n",
              "  </tbody>\n",
              "</table>\n",
              "</div>\n",
              "      <button class=\"colab-df-convert\" onclick=\"convertToInteractive('df-37bf4761-7420-4faf-a180-25dc7172df18')\"\n",
              "              title=\"Convert this dataframe to an interactive table.\"\n",
              "              style=\"display:none;\">\n",
              "        \n",
              "  <svg xmlns=\"http://www.w3.org/2000/svg\" height=\"24px\"viewBox=\"0 0 24 24\"\n",
              "       width=\"24px\">\n",
              "    <path d=\"M0 0h24v24H0V0z\" fill=\"none\"/>\n",
              "    <path d=\"M18.56 5.44l.94 2.06.94-2.06 2.06-.94-2.06-.94-.94-2.06-.94 2.06-2.06.94zm-11 1L8.5 8.5l.94-2.06 2.06-.94-2.06-.94L8.5 2.5l-.94 2.06-2.06.94zm10 10l.94 2.06.94-2.06 2.06-.94-2.06-.94-.94-2.06-.94 2.06-2.06.94z\"/><path d=\"M17.41 7.96l-1.37-1.37c-.4-.4-.92-.59-1.43-.59-.52 0-1.04.2-1.43.59L10.3 9.45l-7.72 7.72c-.78.78-.78 2.05 0 2.83L4 21.41c.39.39.9.59 1.41.59.51 0 1.02-.2 1.41-.59l7.78-7.78 2.81-2.81c.8-.78.8-2.07 0-2.86zM5.41 20L4 18.59l7.72-7.72 1.47 1.35L5.41 20z\"/>\n",
              "  </svg>\n",
              "      </button>\n",
              "      \n",
              "  <style>\n",
              "    .colab-df-container {\n",
              "      display:flex;\n",
              "      flex-wrap:wrap;\n",
              "      gap: 12px;\n",
              "    }\n",
              "\n",
              "    .colab-df-convert {\n",
              "      background-color: #E8F0FE;\n",
              "      border: none;\n",
              "      border-radius: 50%;\n",
              "      cursor: pointer;\n",
              "      display: none;\n",
              "      fill: #1967D2;\n",
              "      height: 32px;\n",
              "      padding: 0 0 0 0;\n",
              "      width: 32px;\n",
              "    }\n",
              "\n",
              "    .colab-df-convert:hover {\n",
              "      background-color: #E2EBFA;\n",
              "      box-shadow: 0px 1px 2px rgba(60, 64, 67, 0.3), 0px 1px 3px 1px rgba(60, 64, 67, 0.15);\n",
              "      fill: #174EA6;\n",
              "    }\n",
              "\n",
              "    [theme=dark] .colab-df-convert {\n",
              "      background-color: #3B4455;\n",
              "      fill: #D2E3FC;\n",
              "    }\n",
              "\n",
              "    [theme=dark] .colab-df-convert:hover {\n",
              "      background-color: #434B5C;\n",
              "      box-shadow: 0px 1px 3px 1px rgba(0, 0, 0, 0.15);\n",
              "      filter: drop-shadow(0px 1px 2px rgba(0, 0, 0, 0.3));\n",
              "      fill: #FFFFFF;\n",
              "    }\n",
              "  </style>\n",
              "\n",
              "      <script>\n",
              "        const buttonEl =\n",
              "          document.querySelector('#df-37bf4761-7420-4faf-a180-25dc7172df18 button.colab-df-convert');\n",
              "        buttonEl.style.display =\n",
              "          google.colab.kernel.accessAllowed ? 'block' : 'none';\n",
              "\n",
              "        async function convertToInteractive(key) {\n",
              "          const element = document.querySelector('#df-37bf4761-7420-4faf-a180-25dc7172df18');\n",
              "          const dataTable =\n",
              "            await google.colab.kernel.invokeFunction('convertToInteractive',\n",
              "                                                     [key], {});\n",
              "          if (!dataTable) return;\n",
              "\n",
              "          const docLinkHtml = 'Like what you see? Visit the ' +\n",
              "            '<a target=\"_blank\" href=https://colab.research.google.com/notebooks/data_table.ipynb>data table notebook</a>'\n",
              "            + ' to learn more about interactive tables.';\n",
              "          element.innerHTML = '';\n",
              "          dataTable['output_type'] = 'display_data';\n",
              "          await google.colab.output.renderOutput(dataTable, element);\n",
              "          const docLink = document.createElement('div');\n",
              "          docLink.innerHTML = docLinkHtml;\n",
              "          element.appendChild(docLink);\n",
              "        }\n",
              "      </script>\n",
              "    </div>\n",
              "  </div>\n",
              "  "
            ]
          },
          "metadata": {},
          "execution_count": 22
        }
      ]
    },
    {
      "cell_type": "code",
      "source": [
        "#Verificar tamaño de datos\n",
        "X = df.iloc[: , [0,1,2,4,8]].values\n",
        "np.size(X)/5"
      ],
      "metadata": {
        "colab": {
          "base_uri": "https://localhost:8080/"
        },
        "id": "avziRrP80qtU",
        "outputId": "91ea4152-12f9-455f-f717-a3815fd75236"
      },
      "execution_count": null,
      "outputs": [
        {
          "output_type": "execute_result",
          "data": {
            "text/plain": [
              "424593.0"
            ]
          },
          "metadata": {},
          "execution_count": 24
        }
      ]
    },
    {
      "cell_type": "code",
      "source": [
        "# Predecir con el modelo ajustado\n",
        "print('Leyedo archivo')\n",
        "\n",
        "# Estandarizar datos\n",
        "X_PRED_STD = stdsc.transform(X)\n",
        "\n",
        "# Mostrar primeros registros de datos\n",
        "print(X_PRED_STD[0:5])\n",
        "\n",
        "# Predecir\n",
        "y_pred = clf.predict(X_PRED_STD)\n",
        "\n",
        "# Mostrar primeros registros de prediccion\n",
        "print('\\nListo!')\n",
        "\n",
        "print(y_pred[0:10])\n",
        "\n",
        "# Mostrar numero de clases\n",
        "print('\\nClases: 1 2 3 4 5')\n",
        " \n",
        "# Cuantificar numero de muestras predichas por clase\n",
        "print('CLasificacion:', np.bincount(y_pred))\n",
        "\n",
        "print('\\nFIN DE LA PREDICCION')"
      ],
      "metadata": {
        "colab": {
          "base_uri": "https://localhost:8080/"
        },
        "id": "KpSP4Rfhwf6s",
        "outputId": "75b44d6a-0dd0-4af1-d7f0-d22088652952"
      },
      "execution_count": null,
      "outputs": [
        {
          "output_type": "stream",
          "name": "stdout",
          "text": [
            "Leyedo archivo\n",
            "[[-1.9065813  -2.40466009 -2.48006195 -1.50436839 -0.87564951]\n",
            " [-1.9065813  -2.40466009 -2.48006195 -1.50436839 -0.87564951]\n",
            " [-1.9065813  -2.40466009 -2.48006195 -1.50436839 -0.87564951]\n",
            " [-1.9065813  -2.40466009 -2.48006195 -1.50436839 -0.87564951]\n",
            " [-1.9065813  -2.40466009 -2.48006195 -1.50436839 -0.87564951]]\n",
            "\n",
            "Listo!\n",
            "[3 3 3 3 3 3 3 3 3 3]\n",
            "\n",
            "Clases: 1 2 3 4 5\n",
            "CLasificacion: [     0  11911  35296 363218  14168]\n",
            "\n",
            "FIN DE LA PREDICCION\n"
          ]
        }
      ]
    },
    {
      "cell_type": "code",
      "source": [
        "# Agregamos a RGB el valor de su clase segun lo predicho\n",
        "j=0\n",
        "nuevo=[]\n",
        "for i in X:\n",
        "  nuevo.append([i[0],i[1],i[2], y_pred[j]])\n",
        "  j+=1\n",
        "\n",
        "# Reemplazamos la posicion 3 como 0 si el valor de R G Y B ES CERO\n",
        "for i in nuevo:\n",
        "  if i[0]==i[1]==i[2]==0:\n",
        "    i[3]=0\n",
        "\n",
        "#Agregamos un color a cada clase sustituyendo los valores RGB Segun sea el caso\n",
        "for i in nuevo:\n",
        "  if i[3]==1: # MAGENTA\n",
        "    i[0]=255\n",
        "    i[1]=0\n",
        "    i[2]=255\n",
        "  elif i[3]==2: # AMARILLO\n",
        "    i[0]=255\n",
        "    i[1]=255\n",
        "    i[2]=0\n",
        "  elif i[3]==3: # VERDE\n",
        "    i[0]=6\n",
        "    i[1]=137\n",
        "    i[2]=2\n",
        "  elif i[3]==4: # ROJO\n",
        "    i[0]=255\n",
        "    i[1]=0\n",
        "    i[2]=0\n",
        "  elif i[3]==0: # BLANCO \n",
        "    i[0]=255\n",
        "    i[1]=255\n",
        "    i[2]=255\n",
        "\n",
        "# Eliminamos la cuarta columna para teer solo los 3 RGB\n",
        "lista=[]\n",
        "for i in nuevo:\n",
        "  lista.append([i[0], i[1], i[2]])"
      ],
      "metadata": {
        "id": "GZ3iAW5Vwk7H"
      },
      "execution_count": null,
      "outputs": []
    },
    {
      "cell_type": "code",
      "source": [
        "#Convertir lista a un arreglo \n",
        "arr = np.array(lista)\n",
        "# Tamaño de la imagen original\n",
        "ban = 3 # numero de bandas\n",
        "m = 741 # ancho\n",
        "n = 573 # alto\n",
        "tamanio = m*n*ban #\n",
        "\n",
        "# Mostrar tamaño de la lista y de la imagen deseada\n",
        "print(tamanio)\n",
        "print(m,n,ban)\n",
        "\n",
        "# Convertir matriz de 1 dimension a 3\n",
        "matriz = arr.reshape(n,m,3)\n",
        "print(matriz.shape)"
      ],
      "metadata": {
        "colab": {
          "base_uri": "https://localhost:8080/"
        },
        "id": "_dLilDhew0nM",
        "outputId": "bd60e3fa-778d-42af-f830-dfd92aab53b1"
      },
      "execution_count": null,
      "outputs": [
        {
          "output_type": "stream",
          "name": "stdout",
          "text": [
            "1273779\n",
            "741 573 3\n",
            "(573, 741, 3)\n"
          ]
        }
      ]
    },
    {
      "cell_type": "code",
      "source": [
        "# Crear imagen a partir de una matriz\n",
        "\n",
        "from PIL import Image\n",
        "from matplotlib import cm\n",
        "import matplotlib.pyplot as plt\n",
        "\n",
        "# Conveetir tipo de datos de una matriz a 'uint8'\n",
        "img = np.array(matriz).astype('uint8')\n",
        "\n",
        "# Crea imagen desde un arreglo\n",
        "Huehue_img = Image.fromarray(img)\n",
        "\n",
        "# Mostrar la imagen\n",
        "Huehue_img.show()\n",
        "\n",
        "# Agregarle etiquetas y mostrar la imagen\n",
        "plt.imshow(Huehue_img)\n",
        "plt.title(' Clasificación Huehuetla 2021 ') \n",
        "plt.axis('off')\n",
        "plt.show()"
      ],
      "metadata": {
        "colab": {
          "base_uri": "https://localhost:8080/",
          "height": 264
        },
        "id": "Cb7fk-4jw7hm",
        "outputId": "27d6f040-2d3f-4a58-8196-5ab0942d3e85"
      },
      "execution_count": null,
      "outputs": [
        {
          "output_type": "display_data",
          "data": {
            "text/plain": [
              "<Figure size 432x288 with 1 Axes>"
            ],
            "image/png": "[encoded data removed]"
          },
          "metadata": {
            "needs_background": "light"
          }
        }
      ]
    },
    {
      "cell_type": "code",
      "source": [
        "# Guardar la imagen generada\n",
        "plt.imsave(\"CLF2021_SelCa.jpg\",img)"
      ],
      "metadata": {
        "id": "pYTRbqarw81s"
      },
      "execution_count": null,
      "outputs": []
    },
    {
      "cell_type": "code",
      "source": [
        "# Cuantificar numero de pixeles por clase\n",
        "q,w,e,r,t = 0,0,0,0,0\n",
        "for i in nuevo:\n",
        "  if i[3]== 0:\n",
        "    q+=1\n",
        "  elif i[3]== 1:\n",
        "    w+=1\n",
        "  elif i[3]== 2:\n",
        "    e+=1\n",
        "  elif i[3]== 3:\n",
        "    r+=1\n",
        "  elif i[3]== 4:\n",
        "    t+=1\n",
        "\n",
        "#  Area por pixel\n",
        "res = 15*15 #m2\n",
        "# Crear una lista\n",
        "tabla = [q,w,e,r,t]"
      ],
      "metadata": {
        "id": "nd_rqFdoxApZ"
      },
      "execution_count": null,
      "outputs": []
    },
    {
      "cell_type": "code",
      "source": [
        "# Mostrar areas por clase en hectareas Totales\n",
        "areas = tabla[1:]\n",
        "area = 0\n",
        "c = 1\n",
        "\n",
        "print('Areas por clase\\n')\n",
        "for i in areas:\n",
        "  h = i*res/10000\n",
        "  print('Clase ', c, '=','%.2f' % h, 'ha')\n",
        "  area = area+i*res/10000\n",
        "  c += 1\n",
        "\n",
        "print('\\nHectáreas = ', '%.2f' % area, 'ha')"
      ],
      "metadata": {
        "colab": {
          "base_uri": "https://localhost:8080/"
        },
        "id": "8GN3-0ZTxIc5",
        "outputId": "8a9e3d03-795b-4b49-d40b-5838275a9798"
      },
      "execution_count": null,
      "outputs": [
        {
          "output_type": "stream",
          "name": "stdout",
          "text": [
            "Areas por clase\n",
            "\n",
            "Clase  1 = 268.00 ha\n",
            "Clase  2 = 794.16 ha\n",
            "Clase  3 = 2570.78 ha\n",
            "Clase  4 = 318.78 ha\n",
            "\n",
            "Hectáreas =  3951.72 ha\n"
          ]
        }
      ]
    }
  ]
}