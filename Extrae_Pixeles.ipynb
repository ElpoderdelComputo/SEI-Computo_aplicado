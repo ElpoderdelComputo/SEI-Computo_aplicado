{
  "nbformat": 4,
  "nbformat_minor": 0,
  "metadata": {
    "colab": {
      "name": "Extrae_Pixeles.ipynb",
      "provenance": [],
      "collapsed_sections": [],
      "authorship_tag": "ABX9TyM6eL/7b4lMNYlfkHDZWXP9",
      "include_colab_link": true
    },
    "kernelspec": {
      "name": "python3",
      "display_name": "Python 3"
    },
    "language_info": {
      "name": "python"
    }
  },
  "cells": [
    {
      "cell_type": "markdown",
      "metadata": {
        "id": "view-in-github",
        "colab_type": "text"
      },
      "source": [
        "<a href=\"https://colab.research.google.com/github/ElpoderdelComputo/SEI-Computo_aplicado/blob/main/Extrae_Pixeles.ipynb\" target=\"_parent\"><img src=\"https://colab.research.google.com/assets/colab-badge.svg\" alt=\"Open In Colab\"/></a>"
      ]
    },
    {
      "cell_type": "markdown",
      "source": [
        "# **COLEGIO DE POSTGRADUADOS**\n",
        "\n",
        "INSTITUCIÓN DE ENSEÑANZA E INVESTIGACIÓN EN CIENCIAS AGRÍCOLAS\n",
        "CAMPUS MONTECILLO\n",
        "\n",
        "POSGRADO EN SOCIOECONOMÍA, ESTADÍSTICA E INFORMÁTICA\n",
        "\n",
        "# CÓMPUTO APLICADO\n",
        "\n",
        "Extraer valores RGB de cada pixel de una imagen\n",
        "\n",
        "Autor: José Rodríguez Rosales"
      ],
      "metadata": {
        "id": "wi-b_9c8e35N"
      }
    },
    {
      "cell_type": "code",
      "execution_count": 2,
      "metadata": {
        "colab": {
          "base_uri": "https://localhost:8080/",
          "height": 72
        },
        "id": "UPmOylZnekZ-",
        "outputId": "fb85f210-a843-41f4-eb9d-b9218922a1da"
      },
      "outputs": [
        {
          "output_type": "execute_result",
          "data": {
            "text/plain": [
              "'\\n# Quitar comentario cuando se requiera eliminar valores repetidos en la matriz que se desea guardar\\nk=0;\\nunicos=[]\\nfor i in all_pixels:\\n    if i[0]==i[1]==i[2]==255:\\n         k+=1\\n    if i[0]==i[1]==i[2]==0:\\n        k+=1\\n    else:            \\n        unicos.append(i)    \\n\\nprint(np.size(unicos))\\n'"
            ],
            "application/vnd.google.colaboratory.intrinsic+json": {
              "type": "string"
            }
          },
          "metadata": {},
          "execution_count": 2
        }
      ],
      "source": [
        "# Importar librerías\n",
        "import numpy as np\n",
        "from PIL import Image\n",
        "i = Image.open('/content/Solohuehue21.tif')\n",
        "\n",
        "pixels = i.load()\n",
        "width, height = i.size\n",
        "\n",
        "all_pixels = []\n",
        "for x in range(width):\n",
        "    for y in range(height):\n",
        "        cpixel = pixels[(x), (y)]\n",
        "        all_pixels.append(cpixel)\n",
        "'''\n",
        "# Quitar comentario cuando se requiera eliminar valores repetidos en la matriz que se desea guardar\n",
        "k=0;\n",
        "unicos=[]\n",
        "for i in all_pixels:\n",
        "    if i[0]==i[1]==i[2]==255:\n",
        "         k+=1\n",
        "    if i[0]==i[1]==i[2]==0:\n",
        "        k+=1\n",
        "    else:            \n",
        "        unicos.append(i)    \n",
        "\n",
        "print(np.size(unicos))\n",
        "'''        \n"
      ]
    },
    {
      "cell_type": "code",
      "source": [
        "# Primero 5 registros: Nos muestra 4 canales debido a que la imagen es tiff y tiene fondo transparente\n",
        "all_pixels[:10]"
      ],
      "metadata": {
        "colab": {
          "base_uri": "https://localhost:8080/"
        },
        "id": "FB06JzlTfRx6",
        "outputId": "4a73bc56-2757-4789-b26c-0163b5a9391b"
      },
      "execution_count": 5,
      "outputs": [
        {
          "output_type": "execute_result",
          "data": {
            "text/plain": [
              "[(0, 0, 0, 0),\n",
              " (0, 0, 0, 0),\n",
              " (0, 0, 0, 0),\n",
              " (0, 0, 0, 0),\n",
              " (0, 0, 0, 0),\n",
              " (0, 0, 0, 0),\n",
              " (0, 0, 0, 0),\n",
              " (0, 0, 0, 0),\n",
              " (0, 0, 0, 0),\n",
              " (0, 0, 0, 0)]"
            ]
          },
          "metadata": {},
          "execution_count": 5
        }
      ]
    },
    {
      "cell_type": "code",
      "source": [
        "# Guardar los valores rgb a un archivo txt    \n",
        "np.savetxt(\"Muni_2021.tif.txt\", all_pixels)"
      ],
      "metadata": {
        "id": "kWcmnlAPfKsY"
      },
      "execution_count": 6,
      "outputs": []
    }
  ]
}